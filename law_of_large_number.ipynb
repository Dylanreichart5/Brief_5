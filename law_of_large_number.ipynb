{
 "cells": [
  {
   "cell_type": "markdown",
   "id": "00eeb8d7",
   "metadata": {},
   "source": [
    "# The Law of Large Numbers (LLN)"
   ]
  },
  {
   "cell_type": "markdown",
   "id": "e8757173",
   "metadata": {},
   "source": [
    "🧑🏻‍🏫 What is the LLN ? According to [Wikipedia](https://en.wikipedia.org/wiki/Law_of_large_numbers)\n",
    "\n",
    "> This theorem is a fundamental result in probability theory. It describes **the results of performing the same experiment a large number of times**. \n",
    "\n",
    "> According to this law, **the average of the results obtained from a larger number of trials should be close to the expected value, the theoretical average value**, and it will tend to become closer to the expected value as more trials as performed"
   ]
  },
  {
   "cell_type": "code",
   "execution_count": 2,
   "id": "4f17fc1a",
   "metadata": {},
   "outputs": [],
   "source": [
    "import numpy as np\n",
    "import matplotlib.pyplot as plt"
   ]
  },
  {
   "cell_type": "markdown",
   "id": "750032be",
   "metadata": {},
   "source": [
    "## 🎲 Rolling a dice"
   ]
  },
  {
   "cell_type": "markdown",
   "id": "fffe9999",
   "metadata": {},
   "source": [
    "🎲 Rolling a dice is a random experiment with 6 possible outcomes : 1, 2, 3, 4, 5, 6.\n",
    "\n",
    "🤔 How can I roll a dice in a Jupyter Notebook ?\n",
    "\n",
    "👉 [numpy.random.randint](https://numpy.org/doc/stable/reference/random/generated/numpy.random.randint.html) returns a random integer between `low` (inclusive) and `high` (exclusive)"
   ]
  },
  {
   "cell_type": "code",
   "execution_count": 3,
   "id": "2695b1d9",
   "metadata": {},
   "outputs": [
    {
     "data": {
      "text/plain": [
       "3"
      ]
     },
     "execution_count": 3,
     "metadata": {},
     "output_type": "execute_result"
    }
   ],
   "source": [
    "# Run this cell multiple times\n",
    "np.random.randint(1,6+1)"
   ]
  },
  {
   "cell_type": "markdown",
   "id": "736f56d8",
   "metadata": {},
   "source": [
    "* Everytime you run this cell, you are throwing a dice and the outcome if this experiment is totally random (1, 2, 3, 4, 5 or 6), we simply call it a **`random experiment`**.\n",
    "* ❓How would you roll 3 dices simultaneously. Read the [numpy.random.randint](https://numpy.org/doc/stable/reference/random/generated/numpy.random.randint.html) docs and roll these three dice. ❓"
   ]
  },
  {
   "cell_type": "code",
   "execution_count": 4,
   "id": "b9bd34a4",
   "metadata": {
    "tags": []
   },
   "outputs": [
    {
     "data": {
      "text/plain": [
       "array([6, 5, 6])"
      ]
     },
     "execution_count": 4,
     "metadata": {},
     "output_type": "execute_result"
    }
   ],
   "source": [
    "np.random.randint(1,6+1, size = 3)"
   ]
  },
  {
   "cell_type": "markdown",
   "id": "9ec88185",
   "metadata": {},
   "source": [
    "🚀 So now, let's roll our dice `n = 20` times and compute the average outcome. Store the results in an `outcomes` variable and the average of these outcomes in an `average_outcome` variable."
   ]
  },
  {
   "cell_type": "code",
   "execution_count": 5,
   "id": "84a66e1c",
   "metadata": {
    "tags": []
   },
   "outputs": [
    {
     "name": "stdout",
     "output_type": "stream",
     "text": [
      "3.1\n"
     ]
    }
   ],
   "source": [
    "outcomes = np.random.randint(1,6, size = 20)\n",
    "average_outcomes = sum(outcomes)/len(outcomes)\n",
    "print(average_outcomes)"
   ]
  },
  {
   "cell_type": "markdown",
   "id": "0b453e8d",
   "metadata": {},
   "source": [
    "🤔 What average value did you expect ? Store it in a `expected_value` variable."
   ]
  },
  {
   "cell_type": "code",
   "execution_count": 6,
   "id": "22a67b45",
   "metadata": {
    "tags": []
   },
   "outputs": [],
   "source": [
    "expected_value = 3.5"
   ]
  },
  {
   "cell_type": "markdown",
   "id": "fac2945d",
   "metadata": {},
   "source": [
    "<details>\n",
    "    <summary>Explanations <i>(Take some time to think about the expected average value before untoggling this section!)</i></summary>\n",
    "\n",
    "We can represent the different outcomes of the random experiment \"rolling a dice\" into a table with their respective probabilities.\n",
    "\n",
    "\n",
    "\n",
    "| Possible outcomes | 1   | 2   | 3   | 4   | 5   | 6   | Total |\n",
    "|-------------------|-----|-----|-----|-----|-----|-----|-------|\n",
    "| Probabilities     | 1/6 | 1/6 | 1/6 | 1/6 | 1/6 | 1/6 | 100%  |\n",
    "    \n",
    "The `expected/theoretical average value` can be computed as follows:\n",
    "    \n",
    "\n",
    "$$ \\mathbb{E}[X] = 1 \\times \\frac{1}{6} + 2 \\times \\frac{1}{6} + 3 \\times \\frac{1}{6} + 4 \\times \\frac{1}{6} + 5 \\times \\frac{1}{6} + 6 \\times \\frac{1}{6} = 3.5 $$\n",
    " \n",
    "where `X` denotes the `random outcome` of `rolling a dice`.\n",
    "\n",
    "👉 We say that `X` is a `random variable`\n",
    "\n",
    "</details>\n",
    "\n",
    "--- \n",
    "\n",
    "🔥 Let's verify the Law of Large Numbers for this 🎲 rolling a dice experiment.\n",
    "\n",
    "***Questions :***\n",
    "\n",
    "👉 Play with the number of trials and compute the associated average outcome.\n",
    "\n",
    "🎨 Plot the average outcome vs. the number of trials."
   ]
  },
  {
   "cell_type": "code",
   "execution_count": 11,
   "id": "aab1bd94",
   "metadata": {
    "tags": [
     "challengify"
    ]
   },
   "outputs": [
    {
     "data": {
      "text/plain": [
       "[<matplotlib.lines.Line2D at 0x1ef58c0c280>]"
      ]
     },
     "execution_count": 11,
     "metadata": {},
     "output_type": "execute_result"
    },
    {
     "data": {
      "image/png": "[encoded data removed]",
      "text/plain": [
       "<Figure size 432x288 with 1 Axes>"
      ]
     },
     "metadata": {
      "needs_background": "light"
     },
     "output_type": "display_data"
    }
   ],
   "source": [
    "# 100 trials = 3.34, 1000 trials = 3.577, 10000= 3.446, 100000 3.4917, 1000000=3.49325\n",
    "\n",
    "trials = []\n",
    "average_outcome=[]\n",
    "for i in range (10, 1000, 5):\n",
    "    outcomes = np.random.randint(1,6+1, size = i)\n",
    "    average_outcome.append(sum(outcomes)/len(outcomes))\n",
    "    trials.append(i)\n",
    "    \n",
    "plt.plot(trials,average_outcome)\n",
    "plt.plot([3.5]*i, color = \"blue\")\n"
   ]
  },
  {
   "cell_type": "markdown",
   "id": "0eabfb0b",
   "metadata": {},
   "source": [
    "🎉 We can visually notice that the `empirical mean` $ \\bar{X_n} = \\frac{X_1 + X_2 + ... + X_{n-1} + X_n}{n}$ `converges towards the expected value` $ \\mu = 3.5 $ as the *number of trials n increases* !"
   ]
  },
  {
   "cell_type": "markdown",
   "id": "46eb665b",
   "metadata": {},
   "source": [
    "## 🪙 Tossing a coin "
   ]
  },
  {
   "cell_type": "markdown",
   "id": "b1ff8961",
   "metadata": {},
   "source": [
    "### One time"
   ]
  },
  {
   "cell_type": "markdown",
   "id": "74c4c332",
   "metadata": {},
   "source": [
    "👉 Let's run the same experiment with toss a coin instead.\n",
    "\n",
    "* The outcomes are now 0 and 1.\n",
    "* If you run the experiment 100 times, most likely you will have approximately 50 heads and 50 tails.\n",
    "* Let's define \"head\" as a successful experiment and $p$ as the probability of having a head. Intuitively, $ p = \\frac{1}{2} = 0.5 = 50 \\%$\n",
    "\n",
    "🤓 A random experiment with two possibles outcomes `success/failure`and $p$ as the `probability of success` is said to follow a **`Bernoulli distribution`** with parameter `p` $ \\in [0,1] $\n",
    "\n",
    "🔥 Let's verify the `Law of Large Numbers` for this `tossing a coin` experiment.\n",
    "\n",
    "***Questions :***\n",
    "\n",
    "👉 `Play with the number of trials in the cell below` and visualize the associated plot of average outcome vs. the number of trials."
   ]
  },
  {
   "cell_type": "code",
   "execution_count": null,
   "id": "7f8dd6bd-e1f0-4df2-80ea-e8c4952fad5a",
   "metadata": {},
   "outputs": [],
   "source": [
    "number_of_trials = 500 # play this this number\n",
    "p = 0.5 # expected value of the coin"
   ]
  },
  {
   "cell_type": "code",
   "execution_count": null,
   "id": "a05a98b9",
   "metadata": {},
   "outputs": [],
   "source": [
    "#############################################\n",
    "#     playing with the number of trials     #\n",
    "#############################################\n",
    "trials = np.arange(1,number_of_trials + 1,1)\n",
    "results = [np.mean(np.random.randint(0,1+1, n)) for n in trials]\n",
    "    \n",
    "#############################################\n",
    "#            plotting the results           #\n",
    "#############################################\n",
    "        \n",
    "plt.figure(figsize=(20,10))\n",
    "\n",
    "plt.plot(results,label='empirical means')\n",
    "plt.plot([p]*len(results),label='p', color = \"red\")\n",
    "\n",
    "plt.title('Law of Large Numbers : The empirical mean converges towards the theoretical mean')\n",
    "plt.xlabel('Number of trials')\n",
    "plt.ylabel('Theoretical mean')\n",
    "\n",
    "plt.legend(loc='best')\n",
    "plt.show()"
   ]
  },
  {
   "cell_type": "markdown",
   "id": "f22bf33b",
   "metadata": {},
   "source": [
    "🎉 We can visually notice that the `empirical mean` $ \\bar{X_n} = \\frac{X_1 + X_2 + ... + X_{n-1} + X_n}{n}$ `converges towards the expected value` $ \\mu = 0.5 $ as the *number of trials n increases* !"
   ]
  },
  {
   "cell_type": "markdown",
   "id": "41c88d74",
   "metadata": {},
   "source": [
    "### Multiple times"
   ]
  },
  {
   "cell_type": "markdown",
   "id": "a0c3b0b2",
   "metadata": {},
   "source": [
    "👉 Here, ***ONE experiment*** consists of :\n",
    "* tossing a coin `n_times`\n",
    "* every trial has a `probability p` of success.\n",
    "\n",
    "👉 After running one experiment, we can count the `number of successes` between `no success` and `n_times successes`.\n",
    "\n",
    "📚 A random experiment with:\n",
    "- two possible outcomes `success/failure`\n",
    "- `p` $ \\in [0,1] $ as the `probability of success`\n",
    "- `n` $ \\in \\mathbb{N} $ trials\n",
    "\n",
    "is said to follow a **`Binomial distribution (n,p)`** distribution.\n",
    "\n",
    "😉 If you think about it, **`a Binomial distribution (n,p) is the sum of n independent Bernoulli(p) random variables`** !\n",
    "\n",
    "---\n",
    "\n",
    "❓ In the following cell, use [numpy.random.binomial](https://numpy.org/doc/stable/reference/random/generated/numpy.random.binomial.html) to simulate **ONE Binomial Experience** in Python with:\n",
    "- $p = 0.7$ (imagine that your coin is biased)\n",
    "- $n = 10$ trials\n",
    "\n"
   ]
  },
  {
   "cell_type": "code",
   "execution_count": null,
   "id": "94e37f27",
   "metadata": {},
   "outputs": [],
   "source": [
    "# Run this cell multiple times \n",
    "# for one realisation of a Binomial Experience\n",
    "\n",
    "n = 10  # tossing a coin n times\n",
    "p = 0.7 # probability of success defined by p\n",
    "\n",
    "# YOUR CODE HERE"
   ]
  },
  {
   "cell_type": "markdown",
   "id": "0c765415",
   "metadata": {},
   "source": [
    "❓ Now, repeat this experiment $N = 20$ times and store the N results in a list\n",
    "\n",
    "<details>\n",
    "    <summary><i>Hint</i></summary>\n",
    "    \n",
    "Run the cell multiple times and observe the randomness...!\n",
    "    \n",
    "</details>"
   ]
  },
  {
   "cell_type": "code",
   "execution_count": null,
   "id": "8b97c24e",
   "metadata": {},
   "outputs": [],
   "source": [
    "# Run this cell multiple times \n",
    "# for N realisations of a Binomial Experience\n",
    "\n",
    "N = 20  # number of experiment\n",
    "n = 10  # tossing a coin n times\n",
    "p = 0.7 # probability of success defined by p\n",
    "\n",
    "# YOUR CODE HERE"
   ]
  },
  {
   "cell_type": "markdown",
   "id": "3c1e0284",
   "metadata": {},
   "source": [
    "🔥 Let's verify the `Law of Large Numbers` for this `tossing a coin multiple times` experiment\n",
    "\n",
    "***Questions:***\n",
    "\n",
    "🤔 What average value did you expect ? Store into a `expected_value_coins` variable."
   ]
  },
  {
   "cell_type": "code",
   "execution_count": null,
   "id": "b20e6727",
   "metadata": {
    "tags": []
   },
   "outputs": [],
   "source": [
    "expected_value_coins = None"
   ]
  },
  {
   "cell_type": "markdown",
   "id": "20a0f731",
   "metadata": {},
   "source": [
    "<details>\n",
    "    <summary>Explanations</summary>\n",
    "\n",
    "💡 For one Binomial Experience with $n = 10$ tosses and $p = 0.7$, you would expect $ n \\times p = 10 \\times 0.7 = 7$ successes.\n",
    "    \n",
    "📚 This result holds for any `Binomial(n,p)` random experiment!\n",
    "    \n",
    "$$ \\mathbb{E}[X] = np $$\n",
    "    \n",
    "</details>"
   ]
  },
  {
   "cell_type": "markdown",
   "id": "2a1a3a48",
   "metadata": {},
   "source": [
    "📈 Vizualize these results below"
   ]
  },
  {
   "cell_type": "code",
   "execution_count": null,
   "id": "ea1fa3dd-676e-4994-9184-91d642c02748",
   "metadata": {
    "tags": []
   },
   "outputs": [],
   "source": [
    "#############################################\n",
    "#     playing with the number of trials     #\n",
    "#############################################\n",
    "p = 0.7\n",
    "n = 10\n",
    "N = 1000\n",
    "\n",
    "trials = np.arange(1,N + 1,1)\n",
    "results = [np.mean(np.random.binomial(n = n,p = p, size = N)) for N in trials]\n",
    "    \n",
    "#############################################\n",
    "#            plotting the results           #\n",
    "#############################################\n",
    "    \n",
    "    \n",
    "plt.figure(figsize=(20,10))\n",
    "\n",
    "plt.plot(results,label='empirical means')\n",
    "plt.plot([expected_value_coins]*len(results),label='mu', color = \"red\")\n",
    "\n",
    "plt.title('Law of Large Numbers : The empirical mean converges towards the theoretical mean')\n",
    "plt.xlabel('Number of trials')\n",
    "plt.ylabel('Theoretical mean')\n",
    "\n",
    "plt.legend(loc='best')\n",
    "plt.show()"
   ]
  },
  {
   "cell_type": "markdown",
   "id": "10a2b394",
   "metadata": {},
   "source": [
    "🏁 Congratulations !!!\n",
    "\n",
    "🔥 You've mastered one of the most fundamental theorems of `Probability Theory`, the `Law of Large Numbers`.\n",
    "\n",
    "💾 Do not forget to commit your challenge !\n",
    "\n",
    "---\n",
    "\n",
    "***Additional ressources***\n",
    "\n",
    "📺 [Law of Large Numbers - Explained and Visualized](https://www.youtube.com/watch?v=MntX3zWNWec) by Jeremy Blitz-Jones (4 min 11 sec)\n",
    "\n",
    "🤓 Only for math nerds and completely overkill/unnecessary for data scientists:\n",
    "- [ProbabilityCourse.com - LLN](https://www.probabilitycourse.com/chapter7/7_1_1_law_of_large_numbers.php)\n",
    "- [Oxford University - LLN](http://www.stats.ox.ac.uk/~winkel/bs3a07l9-10.pdf)\n"
   ]
  },
  {
   "cell_type": "code",
   "execution_count": null,
   "id": "dfa6b0fa",
   "metadata": {},
   "outputs": [],
   "source": []
  }
 ],
 "metadata": {
  "kernelspec": {
   "display_name": "Python 3 (ipykernel)",
   "language": "python",
   "name": "python3"
  },
  "language_info": {
   "codemirror_mode": {
    "name": "ipython",
    "version": 3
   },
   "file_extension": ".py",
   "mimetype": "text/x-python",
   "name": "python",
   "nbconvert_exporter": "python",
   "pygments_lexer": "ipython3",
   "version": "3.9.12"
  }
 },
 "nbformat": 4,
 "nbformat_minor": 5
}
